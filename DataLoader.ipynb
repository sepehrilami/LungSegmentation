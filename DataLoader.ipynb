{
  "nbformat": 4,
  "nbformat_minor": 0,
  "metadata": {
    "colab": {
      "name": "DataLoader.ipynb",
      "provenance": [],
      "authorship_tag": "ABX9TyOsUc4JGDXOFTFZWdS6PkKD",
      "include_colab_link": true
    },
    "kernelspec": {
      "name": "python3",
      "display_name": "Python 3"
    }
  },
  "cells": [
    {
      "cell_type": "markdown",
      "metadata": {
        "id": "view-in-github",
        "colab_type": "text"
      },
      "source": [
        "<a href=\"https://colab.research.google.com/github/sepehrilami/LungSegmentation/blob/main/DataLoader.ipynb\" target=\"_parent\"><img src=\"https://colab.research.google.com/assets/colab-badge.svg\" alt=\"Open In Colab\"/></a>"
      ]
    },
    {
      "cell_type": "code",
      "metadata": {
        "id": "512VJH-ej1JU"
      },
      "source": [
        "import torch\n",
        "import torch.nn as nn\n",
        "from torch.autograd import Variable\n",
        "\n",
        "import argparse\n",
        "import os\n",
        "import random\n",
        "import torch.optim as optim\n",
        "\n",
        "import numpy as np\n",
        "import torch.nn.functional as F\n",
        "import matplotlib.pyplot as plt\n",
        "import matplotlib.animation as animation\n",
        "from PIL import Image\n",
        "from torch.utils.data import Dataset, DataLoader\n",
        "import matplotlib.pylab as plt\n",
        "from skimage.transform import resize\n",
        "from time import time\n",
        "\n"
      ],
      "execution_count": 3,
      "outputs": []
    },
    {
      "cell_type": "code",
      "metadata": {
        "id": "E-moCM0j0qiw"
      },
      "source": [
        "!wget https://www.dropbox.com/sh/1j2x17k8y18k3l6/AACkAc6bCEqYVXBdODFo6Iqya/VESSEL12_ExampleScans.tar.bz2"
      ],
      "execution_count": null,
      "outputs": []
    },
    {
      "cell_type": "code",
      "metadata": {
        "id": "PamRiYOm0rAA"
      },
      "source": [
        "output_dir = \"./\"\n",
        "\n",
        "for folder in (\"Scans\", \"Lungmasks\"):\n",
        "    path = os.path.join(output_dir, folder)\n",
        "    if not os.path.isdir(path):\n",
        "        os.mkdir(path)\n",
        "\n",
        "input_dir = input()\n",
        "for file in (\"scans\", \"annotations\"):\n",
        "    img = io.imread(file, plugin='simpleitk')\n",
        "\n",
        "\n"
      ],
      "execution_count": null,
      "outputs": []
    },
    {
      "cell_type": "code",
      "metadata": {
        "id": "ibHOL-g-0voR"
      },
      "source": [
        "import glob\n",
        "import skimage.io as io\n",
        "import os\n",
        "\n",
        "dataset_root_dir = \"\"\n",
        "output_dir = \"./\"\n",
        "\n",
        "for folder in (\"scans\", \"annotations\"):\n",
        "    path = os.path.join(output_dir, folder)\n",
        "    if not os.path.isdir(path):\n",
        "        os.mkdir(path)\n",
        "\n",
        "input_dir = os.path.join(dataset_root_dir, \"scans/*.mhd\")\n",
        "for file in glob.glob(input_dir):\n",
        "    path = file\n",
        "    # headers of mhd should be read\n",
        "    img = io.imread(path, plugin='simpleitk')\n",
        "    name = file.split('/')[-1].split(\".\")[0]\n",
        "    np.save(os.path.join(output_dir, \"scans\", file.split('/')[-1]), img)\n",
        "    print(img.shape)"
      ],
      "execution_count": null,
      "outputs": []
    },
    {
      "cell_type": "code",
      "metadata": {
        "id": "D5dfIM3w1C0_"
      },
      "source": [
        "!pip install SimpleITK\n",
        "import SimpleITK as sitk"
      ],
      "execution_count": null,
      "outputs": []
    },
    {
      "cell_type": "code",
      "metadata": {
        "id": "bLLJbr1R0xmj"
      },
      "source": [
        "import SimpleITK as sitk\n",
        "import numpy as np\n",
        "'''\n",
        "This funciton reads a '.mhd' file using SimpleITK and return the image array, origin and spacing of the image.\n",
        "'''\n",
        "\n",
        "def load_itk(filename):\n",
        "    # Reads the image using SimpleITK\n",
        "    itkimage = sitk.ReadImage(filename)\n",
        "\n",
        "    # Convert the image to a  numpy array first and then shuffle the dimensions to get axis in the order z,y,x\n",
        "    ct_scan = sitk.GetArrayFromImage(itkimage)\n",
        "\n",
        "    # Read the origin of the ct_scan, will be used to convert the coordinates from world to voxel and vice versa.\n",
        "    origin = np.array(list(reversed(itkimage.GetOrigin())))\n",
        "\n",
        "    # Read the spacing along each dimension\n",
        "    spacing = np.array(list(reversed(itkimage.GetSpacing())))\n",
        "\n",
        "    return ct_scan, origin, spacing"
      ],
      "execution_count": null,
      "outputs": []
    },
    {
      "cell_type": "code",
      "metadata": {
        "id": "M7NEvtyL0ztS",
        "outputId": "dcee9ed1-1915-40ab-e8ef-9a96f97e3b57",
        "colab": {
          "base_uri": "https://localhost:8080/",
          "height": 212
        }
      },
      "source": [
        "from time import time\n",
        "begin = time()\n",
        "load_itk('Scans/VESSEL12_21.mhd')\n",
        "print(time() - begin)"
      ],
      "execution_count": 2,
      "outputs": [
        {
          "output_type": "error",
          "ename": "NameError",
          "evalue": "ignored",
          "traceback": [
            "\u001b[0;31m---------------------------------------------------------------------------\u001b[0m",
            "\u001b[0;31mNameError\u001b[0m                                 Traceback (most recent call last)",
            "\u001b[0;32m<ipython-input-2-53336247f5d7>\u001b[0m in \u001b[0;36m<module>\u001b[0;34m()\u001b[0m\n\u001b[1;32m      1\u001b[0m \u001b[0;32mfrom\u001b[0m \u001b[0mtime\u001b[0m \u001b[0;32mimport\u001b[0m \u001b[0mtime\u001b[0m\u001b[0;34m\u001b[0m\u001b[0;34m\u001b[0m\u001b[0m\n\u001b[1;32m      2\u001b[0m \u001b[0mbegin\u001b[0m \u001b[0;34m=\u001b[0m \u001b[0mtime\u001b[0m\u001b[0;34m(\u001b[0m\u001b[0;34m)\u001b[0m\u001b[0;34m\u001b[0m\u001b[0;34m\u001b[0m\u001b[0m\n\u001b[0;32m----> 3\u001b[0;31m \u001b[0mload_itk\u001b[0m\u001b[0;34m(\u001b[0m\u001b[0;34m'Scans/VESSEL12_21.mhd'\u001b[0m\u001b[0;34m)\u001b[0m\u001b[0;34m\u001b[0m\u001b[0;34m\u001b[0m\u001b[0m\n\u001b[0m\u001b[1;32m      4\u001b[0m \u001b[0mprint\u001b[0m\u001b[0;34m(\u001b[0m\u001b[0mtime\u001b[0m\u001b[0;34m(\u001b[0m\u001b[0;34m)\u001b[0m \u001b[0;34m-\u001b[0m \u001b[0mbegin\u001b[0m\u001b[0;34m)\u001b[0m\u001b[0;34m\u001b[0m\u001b[0;34m\u001b[0m\u001b[0m\n",
            "\u001b[0;31mNameError\u001b[0m: name 'load_itk' is not defined"
          ]
        }
      ]
    },
    {
      "cell_type": "code",
      "metadata": {
        "id": "SCwrT5M-0699"
      },
      "source": [
        ""
      ],
      "execution_count": null,
      "outputs": []
    }
  ]
}